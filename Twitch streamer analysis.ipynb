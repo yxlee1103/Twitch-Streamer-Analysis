{
 "cells": [
  {
   "cell_type": "code",
   "execution_count": 51,
   "metadata": {
    "collapsed": true
   },
   "outputs": [],
   "source": [
    "import requests, json\n",
    "import pandas as pd\n",
    "import numpy as np\n",
    "import time\n",
    "\n",
    "## Client ID\n",
    "headers = {\"Client-ID\": \"sism3bnn1sr0fiq1kt4h6370j7p4od\"}"
   ]
  },
  {
   "cell_type": "code",
   "execution_count": 66,
   "metadata": {
    "collapsed": true
   },
   "outputs": [],
   "source": [
    "def top_streamers_on_top_streaming_games():\n",
    "    \n",
    "    temp = pd.DataFrame()\n",
    "    ## Top games streaming\n",
    "    top_games_data = requests.get('https://api.twitch.tv/helix/games/top', headers = headers)\n",
    "    top_games_dict = top_games_data.json()\n",
    "    tgd = pd.DataFrame.from_dict(top_games_dict['data'])\n",
    "    \n",
    "    for i in range(10):\n",
    "        ## Viewer count and streamer for each top games streaming (ex. Valorant)\n",
    "        game_id = {'game_id': str(tgd['id'][i])}\n",
    "        streams_data = requests.get('https://api.twitch.tv/helix/streams', params = game_id, headers = headers)\n",
    "        streams_dict = streams_data.json()\n",
    "        sd = pd.DataFrame.from_dict(streams_dict['data']) \n",
    "        ## Concat top 4 streamers and viewer count for each game(ex. Valorant, xQcOW, 133049)\n",
    "        game_name = str(tgd['name'][i])\n",
    "        temp_2 = pd.DataFrame(columns = ['game_name'])\n",
    "        temp_2 = temp_2.append({'game_name': game_name}, ignore_index = True)\n",
    "        repeated_game_name = temp_2.append([temp_2]*3, ignore_index = True)\n",
    "        streamer_viewer = sd[['user_name', 'viewer_count']][0:4]\n",
    "        complete_data = pd.concat([repeated_game_name, streamer_viewer], axis = 1, ignore_index = True)\n",
    "        temp = pd.concat([temp, complete_data], ignore_index = True)\n",
    "   \n",
    "    temp.columns = ['game_name', 'user_name', 'viewer_count']\n",
    "    return(temp)"
   ]
  },
  {
   "cell_type": "code",
   "execution_count": 67,
   "metadata": {},
   "outputs": [
    {
     "name": "stdout",
     "output_type": "stream",
     "text": [
      "                           game_name      user_name  viewer_count\n",
      "0                           VALORANT        Anomaly         92004\n",
      "1                           VALORANT   TimTheTatman         79409\n",
      "2                           VALORANT         Yassuo         55702\n",
      "3                           VALORANT           Myth         52554\n",
      "4                      Just Chatting     Evelone192         47908\n",
      "5                      Just Chatting      PietSmiet         24977\n",
      "6                      Just Chatting       alanzoka         19506\n",
      "7                      Just Chatting   DrDisrespect         18379\n",
      "8                           Fortnite       Mongraal         33126\n",
      "9                           Fortnite           Tfue         24808\n",
      "10                          Fortnite     benjyfishy         12807\n",
      "11                          Fortnite       NickEh30         11585\n",
      "12                 League of Legends           ibai         43363\n",
      "13                 League of Legends    NoWay4u_Sir         10517\n",
      "14                 League of Legends         Kamet0          8436\n",
      "15                 League of Legends  IWillDominate          8037\n",
      "16                Grand Theft Auto V        Elraenn         33819\n",
      "17                Grand Theft Auto V          Vader          6258\n",
      "18                Grand Theft Auto V       JLWaliid          5013\n",
      "19                Grand Theft Auto V         uhSnow          4734\n",
      "20      Call of Duty: Modern Warfare       TheGrefg         11715\n",
      "21      Call of Duty: Modern Warfare         TeePee         10500\n",
      "22      Call of Duty: Modern Warfare       Nadeshot          9942\n",
      "23      Call of Duty: Modern Warfare        cloakzy          7977\n",
      "24                           FIFA 20   EASPORTSFIFA         65558\n",
      "25                           FIFA 20    Castro_1021         17278\n",
      "26                           FIFA 20       LigaPro1          5853\n",
      "27                           FIFA 20     PapiGaviTV          1910\n",
      "28                 World of Warcraft      Asmongold         52306\n",
      "29                 World of Warcraft         Quin69          4039\n",
      "30                 World of Warcraft      Towelliee          3084\n",
      "31                 World of Warcraft           Payo          2275\n",
      "32  Counter-Strike: Global Offensive         gaules          8983\n",
      "33  Counter-Strike: Global Offensive       x6FlipiN          5237\n",
      "34  Counter-Strike: Global Offensive         LVPes2          4981\n",
      "35  Counter-Strike: Global Offensive     EndpointTV          4103\n",
      "36                            Dota 2      ESL_DOTA2         21101\n",
      "37                            Dota 2          Gorgc          6825\n",
      "38                            Dota 2        just_ns          4380\n",
      "39                            Dota 2     JustCooman          3845\n"
     ]
    }
   ],
   "source": [
    "dataset = top_streamers_on_top_streaming_games()\n",
    "print(dataset)"
   ]
  },
  {
   "cell_type": "code",
   "execution_count": 71,
   "metadata": {},
   "outputs": [],
   "source": [
    "dataset.to_csv('Twitch Streamer Analysis.csv', index = False)"
   ]
  },
  {
   "cell_type": "code",
   "execution_count": null,
   "metadata": {
    "collapsed": true
   },
   "outputs": [],
   "source": []
  }
 ],
 "metadata": {
  "kernelspec": {
   "display_name": "Python 2",
   "language": "python",
   "name": "python2"
  },
  "language_info": {
   "codemirror_mode": {
    "name": "ipython",
    "version": 2
   },
   "file_extension": ".py",
   "mimetype": "text/x-python",
   "name": "python",
   "nbconvert_exporter": "python",
   "pygments_lexer": "ipython2",
   "version": "2.7.14"
  }
 },
 "nbformat": 4,
 "nbformat_minor": 2
}
